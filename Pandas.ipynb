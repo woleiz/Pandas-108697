{
 "cells": [
  {
   "cell_type": "markdown",
   "id": "5ebacb47-74c7-41ef-8600-e317f61ff081",
   "metadata": {},
   "source": [
    "# Introduction to Pandas DataFrames"
   ]
  },
  {
   "cell_type": "markdown",
   "id": "023a8af4-8a26-4ad2-a57e-caa400eb6e54",
   "metadata": {},
   "source": [
    "![Panda and Snake (UNIGIS, 2025)](Pandas.webp)"
   ]
  },
  {
   "cell_type": "markdown",
   "id": "a5a2f9a3-88e8-4452-88d4-ddebcda70822",
   "metadata": {},
   "source": [
    "<ins>[Pandas](https://pandas.pydata.org)</ins>  is a powerful and versatile library for Python, designed primarily for data manipulation and analysis. To quote from Nvidia’s website:"
   ]
  },
  {
   "cell_type": "markdown",
   "id": "07b83fec-2880-40fd-ab54-41c1e210a904",
   "metadata": {},
   "source": [
    "> Pandas is the most popular software library for data manipulation and data analysis for the Python programming language. <ins>[(www.nvidia.com)](https://www.nvidia.com/en-us/glossary/pandas-python/)</ins>"
   ]
  },
  {
   "cell_type": "markdown",
   "id": "05702b84-1990-4193-a2b9-ef27d9eafe32",
   "metadata": {},
   "source": [
    "Here is an (incomplete) list of some key functionalities provided by Pandas:"
   ]
  },
  {
   "cell_type": "markdown",
   "id": "a76f919f-ac32-4ab8-9a9c-dd489a993071",
   "metadata": {},
   "source": [
    "### 1. **Data Structures**\n",
    "- *Series:* One-dimensional labeled array capable of holding data of any type.\n",
    "- *DataFrame:* Two-dimensional, size-mutable, potentially heterogeneous tabular data structure with labeled axes (rows and columns).\n",
    "### 2. **Data Manipulation**\n",
    "- *Data Selection and Indexing:* Access data via labels, indices, or boolean masks (`.loc`, `.iloc`, `.at`, `.iat`).\n",
    "- *Filtering:* Filter data based on conditions or queries.\n",
    "- *Sorting:* Sort data by labels or values.\n",
    "- *Handling Missing Data:* Identify, fill, or drop missing values (`isnull`, `dropna`, `fillna`).\n",
    "### 3. **Data Cleaning**\n",
    "- *Dropping Duplicates:* Remove duplicate rows or columns.\n",
    "- *Replacing Values:* Replace specific values in the DataFrame.\n",
    "- *String Operations:* Perform operations on string data, like splitting, replacing, and pattern matching (`str.split`, `str.replace`).\n",
    "### 4. **Aggregation and Grouping**\n",
    "- *Group By:* Split data into groups based on criteria, and perform aggregate functions like sum, mean, or custom operations.\n",
    "- *Pivot Tables:* Create a pivot table to summarize data.\n",
    "### 5. **Merging and Joining**\n",
    "- *Concatenation:* Combine multiple DataFrames along a particular axis.\n",
    "- *Merging:* Merge DataFrames similar to SQL joins (`merge`, `join`).\n",
    "### 6. **Time Series**\n",
    "- *Datetime Conversion:* Convert date and time data to a datetime object.\n",
    "- *Resampling:* Aggregate data over a time period.\n",
    "- *Time-based Indexing:* Access and manipulate time-series data easily with date indexing.\n",
    "### 7. **Statistical and Mathematical Operations**\n",
    "- *escriptive Statistics:* Compute summary statistics for DataFrame columns.\n",
    "- *Correlation/ Covariance:* Calculate the pairwise correlation or covariance between columns.\n",
    "- *Cumulative Operations:* Perform cumulative operations on data."
   ]
  },
  {
   "cell_type": "markdown",
   "id": "9d4bc81f-5ad4-4428-b78a-855fb9ac67ad",
   "metadata": {},
   "source": [
    "At the heart of Pandas lies the DataFrame, a two-dimensional labeled data structure with columns of potentially different types, similar to a table in a relational database or an Excel spreadsheet. Understanding DataFrames is crucial for anyone looking to perform data analysis in Python."
   ]
  },
  {
   "cell_type": "markdown",
   "id": "179c3328-89c5-4a63-99fa-7561a84d2cb3",
   "metadata": {},
   "source": [
    "## **What is a DataFrame?**"
   ]
  },
  {
   "cell_type": "markdown",
   "id": "1aa61692-b595-4d04-8903-7ea09047fc56",
   "metadata": {},
   "source": [
    "A DataFrame is a table-like structure in Pandas that consists of rows and columns, where each column can hold different data types (e.g., integers, floats, strings). You can think of it as a collection of Series objects, where each Series is a single column of data. DataFrames provide a highly efficient way to store and manipulate large datasets in memory."
   ]
  },
  {
   "cell_type": "markdown",
   "id": "2c033d2d-8bf1-4ac3-bbc3-77f6d4f49133",
   "metadata": {},
   "source": [
    "## **Creating a DataFrame**"
   ]
  },
  {
   "cell_type": "markdown",
   "id": "2e848d97-58c0-4189-b1fd-a7e651d53b31",
   "metadata": {},
   "source": [
    "There are several ways to create a DataFrame in Pandas, but some of the most common methods are:"
   ]
  },
  {
   "cell_type": "markdown",
   "id": "87034fe9-1f6f-4a24-a637-3cfd16779101",
   "metadata": {},
   "source": [
    "1. From a Dictionary\n",
    "2. From a List of Lists\n",
    "3. From a CSV File"
   ]
  },
  {
   "cell_type": "markdown",
   "id": "6ec0d5c4-3d83-44c6-8d3c-893118cad87e",
   "metadata": {},
   "source": [
    "Below we take a look at the first two approaches."
   ]
  },
  {
   "cell_type": "markdown",
   "id": "81a70e0d-0342-4fb4-83d0-2267c755c454",
   "metadata": {},
   "source": [
    "## **Creating a DataFrame**"
   ]
  },
  {
   "cell_type": "markdown",
   "id": "5872eff9-3419-4722-a358-e25c1584d1a3",
   "metadata": {},
   "source": [
    "The following code will create a DataFrame with three columns: ‘Name’, ‘Age’, and ‘City’, and three rows corresponding to the data provided in the dictionary. To be able to use Pandas, we first have to import it. This is done using the `command import pandas as pd`, introducing the alias `pd` for Pandas."
   ]
  },
  {
   "cell_type": "code",
   "execution_count": 6,
   "id": "85964635-2947-4a04-a852-b8cce419e150",
   "metadata": {},
   "outputs": [
    {
     "data": {
      "text/html": [
       "<div>\n",
       "<style scoped>\n",
       "    .dataframe tbody tr th:only-of-type {\n",
       "        vertical-align: middle;\n",
       "    }\n",
       "\n",
       "    .dataframe tbody tr th {\n",
       "        vertical-align: top;\n",
       "    }\n",
       "\n",
       "    .dataframe thead th {\n",
       "        text-align: right;\n",
       "    }\n",
       "</style>\n",
       "<table border=\"1\" class=\"dataframe\">\n",
       "  <thead>\n",
       "    <tr style=\"text-align: right;\">\n",
       "      <th></th>\n",
       "      <th>Name</th>\n",
       "      <th>Age</th>\n",
       "      <th>City</th>\n",
       "    </tr>\n",
       "  </thead>\n",
       "  <tbody>\n",
       "    <tr>\n",
       "      <th>0</th>\n",
       "      <td>Alice</td>\n",
       "      <td>25</td>\n",
       "      <td>New York</td>\n",
       "    </tr>\n",
       "    <tr>\n",
       "      <th>1</th>\n",
       "      <td>Bob</td>\n",
       "      <td>30</td>\n",
       "      <td>Los Angeles</td>\n",
       "    </tr>\n",
       "    <tr>\n",
       "      <th>2</th>\n",
       "      <td>Charlie</td>\n",
       "      <td>35</td>\n",
       "      <td>Chicago</td>\n",
       "    </tr>\n",
       "  </tbody>\n",
       "</table>\n",
       "</div>"
      ],
      "text/plain": [
       "      Name  Age         City\n",
       "0    Alice   25     New York\n",
       "1      Bob   30  Los Angeles\n",
       "2  Charlie   35      Chicago"
      ]
     },
     "execution_count": 6,
     "metadata": {},
     "output_type": "execute_result"
    }
   ],
   "source": [
    "import pandas as pd\n",
    "\n",
    "data = {\n",
    "    'Name': ['Alice', 'Bob', 'Charlie'],\n",
    "    'Age': [25, 30, 35],\n",
    "    'City': ['New York', 'Los Angeles', 'Chicago']\n",
    "}\n",
    "\n",
    "df = pd.DataFrame(data)\n",
    "df"
   ]
  },
  {
   "cell_type": "markdown",
   "id": "f998c986-a530-400c-9998-0e322b7ea243",
   "metadata": {},
   "source": [
    "## **Creating DataFrame from a List of Lists**"
   ]
  },
  {
   "cell_type": "markdown",
   "id": "5f0e90e6-2518-400c-ba52-0e8357ac1f3a",
   "metadata": {},
   "source": [
    "Here, we create the DataFrame from a list of lists where each inner list represents the values for one row. Note that We explicitly specify the column names when creating the DataFrame."
   ]
  },
  {
   "cell_type": "code",
   "execution_count": 7,
   "id": "0c34d5e4-7d9f-46cb-8169-2648d4b63a5c",
   "metadata": {},
   "outputs": [
    {
     "data": {
      "text/html": [
       "<div>\n",
       "<style scoped>\n",
       "    .dataframe tbody tr th:only-of-type {\n",
       "        vertical-align: middle;\n",
       "    }\n",
       "\n",
       "    .dataframe tbody tr th {\n",
       "        vertical-align: top;\n",
       "    }\n",
       "\n",
       "    .dataframe thead th {\n",
       "        text-align: right;\n",
       "    }\n",
       "</style>\n",
       "<table border=\"1\" class=\"dataframe\">\n",
       "  <thead>\n",
       "    <tr style=\"text-align: right;\">\n",
       "      <th></th>\n",
       "      <th>Name</th>\n",
       "      <th>Age</th>\n",
       "      <th>City</th>\n",
       "    </tr>\n",
       "  </thead>\n",
       "  <tbody>\n",
       "    <tr>\n",
       "      <th>0</th>\n",
       "      <td>Alice</td>\n",
       "      <td>25</td>\n",
       "      <td>New York</td>\n",
       "    </tr>\n",
       "    <tr>\n",
       "      <th>1</th>\n",
       "      <td>Bob</td>\n",
       "      <td>30</td>\n",
       "      <td>Los Angeles</td>\n",
       "    </tr>\n",
       "    <tr>\n",
       "      <th>2</th>\n",
       "      <td>Charlie</td>\n",
       "      <td>35</td>\n",
       "      <td>Chicago</td>\n",
       "    </tr>\n",
       "  </tbody>\n",
       "</table>\n",
       "</div>"
      ],
      "text/plain": [
       "      Name  Age         City\n",
       "0    Alice   25     New York\n",
       "1      Bob   30  Los Angeles\n",
       "2  Charlie   35      Chicago"
      ]
     },
     "execution_count": 7,
     "metadata": {},
     "output_type": "execute_result"
    }
   ],
   "source": [
    "data = [\n",
    "    ['Alice', 25, 'New York'],\n",
    "    ['Bob', 30, 'Los Angeles'],\n",
    "    ['Charlie', 35, 'Chicago']\n",
    "]\n",
    "\n",
    "df = pd.DataFrame(data, columns=['Name', 'Age', 'City'])\n",
    "df"
   ]
  },
  {
   "cell_type": "markdown",
   "id": "c6d92a4f-422a-4d52-8b37-9f60963a9669",
   "metadata": {},
   "source": [
    "## **Accessing Data in a DataFrame**"
   ]
  },
  {
   "cell_type": "markdown",
   "id": "5d959268-dd7a-4615-8b96-d2b674c5bda6",
   "metadata": {},
   "source": [
    "Once you have a DataFrame, you can access its data in various ways:"
   ]
  },
  {
   "cell_type": "markdown",
   "id": "74b514ee-ae3c-4dfb-841f-cd50ceca08a7",
   "metadata": {},
   "source": [
    "- By column name:"
   ]
  },
  {
   "cell_type": "code",
   "execution_count": 8,
   "id": "35496e71-3fda-4abe-99c4-23f386c15113",
   "metadata": {},
   "outputs": [
    {
     "data": {
      "text/plain": [
       "0      Alice\n",
       "1        Bob\n",
       "2    Charlie\n",
       "Name: Name, dtype: object"
      ]
     },
     "execution_count": 8,
     "metadata": {},
     "output_type": "execute_result"
    }
   ],
   "source": [
    "df['Name']"
   ]
  },
  {
   "cell_type": "markdown",
   "id": "d0b9f254-deb5-4af8-9ab7-5b4ded08fada",
   "metadata": {},
   "source": [
    "- By row index:"
   ]
  },
  {
   "cell_type": "code",
   "execution_count": 9,
   "id": "81ca374b-0a0f-4ad8-ae8b-0bb059eafee3",
   "metadata": {},
   "outputs": [
    {
     "data": {
      "text/plain": [
       "Name       Alice\n",
       "Age           25\n",
       "City    New York\n",
       "Name: 0, dtype: object"
      ]
     },
     "execution_count": 9,
     "metadata": {},
     "output_type": "execute_result"
    }
   ],
   "source": [
    "df.iloc[0]"
   ]
  },
  {
   "cell_type": "markdown",
   "id": "f68447b4-161a-4d66-8925-79b7550cdd3d",
   "metadata": {},
   "source": [
    "- Using both:"
   ]
  },
  {
   "cell_type": "code",
   "execution_count": 10,
   "id": "dcee8aef-fe03-4304-b71f-704cbb429058",
   "metadata": {},
   "outputs": [
    {
     "data": {
      "text/plain": [
       "'Alice'"
      ]
     },
     "execution_count": 10,
     "metadata": {},
     "output_type": "execute_result"
    }
   ],
   "source": [
    "df.loc[0, 'Name']"
   ]
  },
  {
   "cell_type": "markdown",
   "id": "a7d7dd08-2e32-4a39-8b4c-ee9231579684",
   "metadata": {},
   "source": [
    "## **Conclusion**"
   ]
  },
  {
   "cell_type": "markdown",
   "id": "4e866788-a61d-4de9-ba60-dee0d8d79b5c",
   "metadata": {},
   "source": [
    "Pandas DataFrames are a fundamental tool in the data analysis toolkit for Python users. They provide a powerful way to organize, manipulate, and analyze data efficiently. Whether you’re working with small datasets or handling large-scale data, mastering DataFrames will allow you to tackle a wide range of data-related tasks with ease."
   ]
  },
  {
   "cell_type": "markdown",
   "id": "eca995be-0319-463d-a97f-29072f2e9543",
   "metadata": {},
   "source": [
    "In this introduction, we’ve covered the basics of what a DataFrame is, how to create one, and how to access columns, rows, and individual cells in a DataFrame. As you continue to explore Pandas, you’ll discover many more features and capabilities that make DataFrames an indispensable part of Python programming. The table below contains a number of resources related to Pandas."
   ]
  },
  {
   "cell_type": "markdown",
   "id": "6fda390f-f786-4cf3-9c47-dba27385efe0",
   "metadata": {},
   "source": [
    "| **Resource**                                | **Description**  | \n",
    "| :----------------------------------------   | :---------------------------------------------------: | \n",
    "| [Pandas Documentation](https://pandas.pydata.org)                     | Official documentation for Pandas.                    | \n",
    "| [Python for Data Analysis](https://www.oreilly.com/library/view/python-for-data/9781491957653/)                 | Comprehensive guide by Pandas creator, Wes McKinney.  | \n",
    "| [Real Python: The Pandas DataFrame](https://realpython.com/pandas-dataframe/)        | Tutorials on using Pandas for data analysis.          | \n",
    "| [Kaggle Pandas](https://www.kaggle.com/learn/pandas)                            | Free introductory course on Pandas by Kaggle.         | \n",
    "| [DataCamp Pandas Tutorial](https://www.datacamp.com/tutorial/pandas-tutorial-dataframe-python)                  | \tDetailed tutorials and exercises on Pandas.         | \n"
   ]
  },
  {
   "cell_type": "code",
   "execution_count": null,
   "id": "d3057916-5c29-4ea8-8d69-7674f6125d57",
   "metadata": {},
   "outputs": [],
   "source": []
  }
 ],
 "metadata": {
  "kernelspec": {
   "display_name": "Python 3 (ipykernel)",
   "language": "python",
   "name": "python3"
  },
  "language_info": {
   "codemirror_mode": {
    "name": "ipython",
    "version": 3
   },
   "file_extension": ".py",
   "mimetype": "text/x-python",
   "name": "python",
   "nbconvert_exporter": "python",
   "pygments_lexer": "ipython3",
   "version": "3.13.5"
  }
 },
 "nbformat": 4,
 "nbformat_minor": 5
}
